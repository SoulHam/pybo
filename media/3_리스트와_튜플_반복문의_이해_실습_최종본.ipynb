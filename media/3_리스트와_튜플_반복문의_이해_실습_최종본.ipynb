{
  "nbformat": 4,
  "nbformat_minor": 0,
  "metadata": {
    "colab": {
      "provenance": [],
      "collapsed_sections": []
    },
    "kernelspec": {
      "name": "python3",
      "display_name": "Python 3"
    },
    "language_info": {
      "name": "python"
    }
  },
  "cells": [
    {
      "cell_type": "markdown",
      "source": [
        "## **1. 먼저 복습을 해볼까요?**"
      ],
      "metadata": {
        "id": "7Mit58Ej3mEZ"
      }
    },
    {
      "cell_type": "markdown",
      "source": [
        "저번 시간에 배운 내용:\n",
        "\n",
        "- 변수와 자료형(int, float, string, boolen)\n",
        "- 입력 받기(input)\n",
        "- 비교 연산자\n",
        "- 조건문"
      ],
      "metadata": {
        "id": "ZBAh1IGkL5BY"
      }
    },
    {
      "cell_type": "markdown",
      "source": [
        "**< 복습문제1 >**\n",
        "\n",
        "다음의 프로그램을 작성해 봅시다.\n",
        "\n",
        "우리가 만들 프로그램은, 숫자를 입력 받고 이것이 3의 배수인지 4의 배수인지 전부 아닌지 출력하는 프로그램 입니다.\n",
        "\n",
        "1. Input함수를 통해, 숫자를 입력받으세요.\n",
        "\n",
        "2. 3의 배수라면 \"___는 3의 배수입니다\"를 출력하세요.\n",
        "\n",
        "3. 4의 배수라면 \"___는 4의 배수입니다.\"를 출력하세요.\n",
        "\n",
        "4. 전부 아니라면, \"___는 3의 배수와 4의 배수가 아닙니다.\"를 출력하세요."
      ],
      "metadata": {
        "id": "ep5czUsJMHlX"
      }
    },
    {
      "cell_type": "code",
      "execution_count": null,
      "metadata": {
        "id": "dwNNdFsSLwRR",
        "colab": {
          "base_uri": "https://localhost:8080/"
        },
        "outputId": "fee0107a-d113-4c95-bf8b-eafef0341759"
      },
      "outputs": [
        {
          "output_type": "stream",
          "name": "stdout",
          "text": [
            "숫자를 입력하세요: 12\n",
            "12는 3의 배수입니다.\n"
          ]
        }
      ],
      "source": [
        "input_string = input(\"숫자를 입력하세요: \")\n",
        "#input함수 통해 입력받은 값은 무조건 str형식으로 저장됨.\n",
        "input_number = int(input_string)\n",
        "# 사실 input_string = int(input(\"숫자를 입력하세요: \")) 라고 하는 게 명령어 공간 절약.\n",
        "\n",
        "if input_number % 3 == 0:\n",
        "  print(\"{}는 3의 배수입니다.\". format(input_number))\n",
        "elif input_number % 4 == 0:\n",
        "  print(f\"{input_number}는 4의 배수입니다.\")\n",
        "else:\n",
        "  s=\"{}는 3의 배수와 4의 배수가 아닙니다.\".format(input_number)\n",
        "  print(s)\n",
        "# format을 사용하면 편리하게 변수와 문자열 결합 가능.\n",
        "# 12를 입력 시 3의 배수가 나옴. if 옆의 조건에 True인 걸로 취급되어 if 밑의 명령들만을 수행하고 elif나 else 밑에 종속된 명령들은 수행하지 않기 때문"
      ]
    },
    {
      "cell_type": "markdown",
      "source": [
        "**< 복습문제2 >**\n",
        "\n",
        "다음의 프로그램을 작성해 봅시다.\n",
        "\n",
        "문장을 입력 받고, \"JAVA\"를 \"Python\"으로 교체한 후 출력하는 프로그램을 만들어봅시다.\n",
        "\n",
        "1. Input함수를 통해, 문장을 입력받으세요.\n",
        "\n",
        "2. replace를 이용해 JAVA를 Python으로 바꿔주세요\n",
        "\n",
        "3. 문자열을 출력해봅시다."
      ],
      "metadata": {
        "id": "R1F08-uPbUWy"
      }
    },
    {
      "cell_type": "code",
      "source": [
        "input_string = input(\"문장을 입력하세요: \")\n",
        "input_string_modi = input_string.replace(\"JAVA\", \"Python\")\n",
        "# replace는 인수 두 개를 필수적으로 입력해야 작동.\n",
        "print(input_string_modi)"
      ],
      "metadata": {
        "id": "tX16Q1sxbTVd",
        "colab": {
          "base_uri": "https://localhost:8080/"
        },
        "outputId": "e3b88a2c-3e57-4713-9294-4a4880fe12f0"
      },
      "execution_count": null,
      "outputs": [
        {
          "output_type": "stream",
          "name": "stdout",
          "text": [
            "문장을 입력하세요: JAVA\n",
            "Python\n"
          ]
        }
      ]
    },
    {
      "cell_type": "markdown",
      "source": [
        "**< 복습문제3 >**\n",
        "\n",
        "다음의 프로그램을 작성해 봅시다.\n",
        "\n",
        "리스트 슬라이싱을 이용해 원하는 문자열을 추출해봅시다.\n",
        "\n",
        "1. 리스트 슬라이싱을 이용해 문자열에서 \"Hanyang University\"을 추출해 주세요.\n",
        "\n",
        "2. print를 이용해 출력해주세요."
      ],
      "metadata": {
        "id": "pgLH2wV6byxN"
      }
    },
    {
      "cell_type": "code",
      "source": [
        "strs = \"한양대학교(漢陽大學校, Hanyang University)는 대한민국 서울특별시 성동구 행당동과 사근동에 걸쳐있는 서울캠퍼스(본교)와 경기도 안산시 상록구 사동에 있는 ERICA캠퍼스(분교)로 이루어진 사립 대학이다.\"\n",
        "# 방법 1\n",
        "# 그냥 인덱스로 자르기\n",
        "print(strs[13:31])\n",
        "# 방법 2\n",
        "# strs에 저장된 문자열을 \", \"을 기준으로 여러개로 쪼갠 뒤 리스트에 담아주는 split() 함수를 사용. \n",
        "# 그 다음에 그 list 내에 index 1에 대해 또다시 split을 취하는 것. 이번에는 ')'을 기준으로 여러개로 쪼갠 뒤 리스트에 담아 준다.\n",
        "# 그렇게 해서 나온 리스트 중 index 0을 출력하면 Hanyang University가 나올 것.\n",
        "print(strs.split(\", \")[1].split(')')[0])"
      ],
      "metadata": {
        "id": "GZ3PnQuobyRb",
        "colab": {
          "base_uri": "https://localhost:8080/"
        },
        "outputId": "7f5f5799-97ec-4aeb-8f94-f3611316a3a3"
      },
      "execution_count": null,
      "outputs": [
        {
          "output_type": "stream",
          "name": "stdout",
          "text": [
            "Hanyang University\n",
            "Hanyang University\n"
          ]
        }
      ]
    },
    {
      "cell_type": "markdown",
      "source": [
        "## **2. 리스트란 무엇일까요?**\n",
        "- 복수개의 값을 담을 수 있는 데이터 구조\n",
        "- mutable: 생성된 후 변경 가능.\n",
        "- [] 안에 값을 담아서 생성\n",
        "- list() 함수로 생성"
      ],
      "metadata": {
        "id": "WR7hkghHcxpb"
      }
    },
    {
      "cell_type": "code",
      "source": [
        "a = [] # 빈 리스트\n",
        "print(a)\n",
        "#리스트는 만들어진 뒤 그 안의 원소들의 순서며 내용이며 마음대로 변경 가능."
      ],
      "metadata": {
        "colab": {
          "base_uri": "https://localhost:8080/"
        },
        "id": "g1zBNtrUenZN",
        "outputId": "9e34445f-b7d1-4969-9f89-edab2f53a07b"
      },
      "execution_count": null,
      "outputs": [
        {
          "output_type": "stream",
          "name": "stdout",
          "text": [
            "[]\n"
          ]
        }
      ]
    },
    {
      "cell_type": "code",
      "source": [
        "# 이렇게 해도 빈 리스트를 생성 가능.\n",
        "a=list()\n",
        "print(a)"
      ],
      "metadata": {
        "colab": {
          "base_uri": "https://localhost:8080/"
        },
        "id": "L64nwQW21r3C",
        "outputId": "b40bd331-ee40-48ac-abb0-cf1f89170e2e"
      },
      "execution_count": null,
      "outputs": [
        {
          "output_type": "stream",
          "name": "stdout",
          "text": [
            "[]\n"
          ]
        }
      ]
    },
    {
      "cell_type": "code",
      "source": [
        "a = [1, 2, 3, 4, 5] # 숫자\n",
        "b = [1, 2, 3, \"a\"] # 혼합\n",
        "#꼭 한 리스트에 동일한 자료형만 넣어야 하는 것은 아니다.\n",
        "print(a)\n",
        "print(b)"
      ],
      "metadata": {
        "id": "Sg3BYcqDgK34",
        "colab": {
          "base_uri": "https://localhost:8080/"
        },
        "outputId": "05400dc9-6f5d-4799-8636-88e37fb8e03f"
      },
      "execution_count": null,
      "outputs": [
        {
          "output_type": "stream",
          "name": "stdout",
          "text": [
            "[1, 2, 3, 4, 5]\n",
            "[1, 2, 3, 'a']\n"
          ]
        }
      ]
    },
    {
      "cell_type": "markdown",
      "source": [
        "**그럼 리스트의 개별 아이템에 접근해볼까요?**"
      ],
      "metadata": {
        "id": "GkW2gy1zgVgN"
      }
    },
    {
      "cell_type": "code",
      "source": [
        "a = [1, 2, 3, 4, 5]\n",
        "print(a[3])\n",
        "#개별 아이템을 뽑아낼 때에는 대괄호 치고 안에 list index 입력하기 e.g. a[3] list의 3번째 index에 해당하는 문자 도출"
      ],
      "metadata": {
        "colab": {
          "base_uri": "https://localhost:8080/"
        },
        "id": "kE4H9lwkgXcg",
        "outputId": "741e8583-dced-4538-bc62-fa8c0494dd53"
      },
      "execution_count": null,
      "outputs": [
        {
          "output_type": "stream",
          "name": "stdout",
          "text": [
            "4\n"
          ]
        }
      ]
    },
    {
      "cell_type": "code",
      "source": [
        "a = [1, 2, 3, 4, 5]\n",
        "a[3] = 10\n",
        "#3번째 index의 자료를 10으로 바꾸어 준다는 뜻.\n",
        "print(a)"
      ],
      "metadata": {
        "colab": {
          "base_uri": "https://localhost:8080/"
        },
        "id": "M38d19zKmQFA",
        "outputId": "3b71f6df-2932-4cca-cf6f-645d9d59dace"
      },
      "execution_count": null,
      "outputs": [
        {
          "output_type": "stream",
          "name": "stdout",
          "text": [
            "[1, 2, 3, 10, 5]\n"
          ]
        }
      ]
    },
    {
      "cell_type": "markdown",
      "source": [
        "**리스트 슬라이싱도 될 것 같지 않나요?**"
      ],
      "metadata": {
        "id": "q0Ja1r4Hg0F5"
      }
    },
    {
      "cell_type": "code",
      "source": [
        "a = [1, 2, 3, 4, 5, 6, 7, 8, 9, 10]\n",
        "print(a[3:6])\n",
        "#문자열과 동일하게 list도 슬라이싱이 가능. "
      ],
      "metadata": {
        "colab": {
          "base_uri": "https://localhost:8080/"
        },
        "id": "Dek2gIUggZ2n",
        "outputId": "5c902739-1b4a-40bc-ca96-53564f4c6f9c"
      },
      "execution_count": null,
      "outputs": [
        {
          "output_type": "stream",
          "name": "stdout",
          "text": [
            "[4, 5, 6]\n"
          ]
        }
      ]
    },
    {
      "cell_type": "code",
      "source": [
        "a = [1, 2, 3, 4, 5, 6, 7, 8, 9, 10]\n",
        "# 연습 문제 \n",
        "# 1. 3번째 4번째 인덱스에 각각 -1과 -2를 넣고\n",
        "# 2. 2에서 8번째까지 리스트 슬라이싱해서 출력\n",
        "a[3]=-1\n",
        "a[4]=-2\n",
        "b = a[2:9]\n",
        "print(b)"
      ],
      "metadata": {
        "colab": {
          "base_uri": "https://localhost:8080/"
        },
        "id": "vdQaExrn22Nu",
        "outputId": "4b4ed078-c791-468b-fb6c-0fb8526d8419"
      },
      "execution_count": null,
      "outputs": [
        {
          "output_type": "stream",
          "name": "stdout",
          "text": [
            "[3, -1, -2, 6, 7, 8, 9]\n"
          ]
        }
      ]
    },
    {
      "cell_type": "markdown",
      "source": [
        "**list() 함수를 이용하면 다른 데이터 타입을 리스트로 바꿀 수 있어요**"
      ],
      "metadata": {
        "id": "y6DBccGDh7nO"
      }
    },
    {
      "cell_type": "code",
      "source": [
        "a = \"I love python\"\n",
        "# 문자열과 list를 왔다갔다 할 수 있게 바꿀 수 있음. list()함수를 활용하기. 문자열의 문자 하나하나가 원소가 되는 list를 얻게 됨.\n",
        "b = list(a)\n",
        "\n",
        "print(b)\n",
        "# 공백 문자 (스페이스) 도 하나의 원소 (문자) 로 취급한다는 점에 주의!"
      ],
      "metadata": {
        "colab": {
          "base_uri": "https://localhost:8080/"
        },
        "id": "IU9vFIS5h0Vd",
        "outputId": "74ffe138-bd97-4b1c-9a64-7ffb9aded714"
      },
      "execution_count": null,
      "outputs": [
        {
          "output_type": "stream",
          "name": "stdout",
          "text": [
            "['I', ' ', 'l', 'o', 'v', 'e', ' ', 'p', 'y', 't', 'h', 'o', 'n']\n"
          ]
        }
      ]
    },
    {
      "cell_type": "markdown",
      "source": [
        "**리스트끼리 합칠수도 있습니다**"
      ],
      "metadata": {
        "id": "fYufZbbCi2Oe"
      }
    },
    {
      "cell_type": "code",
      "source": [
        "a = [1, 2, 3, 4, 5]\n",
        "b = [6, 7, 8]\n",
        "c = a + b\n",
        "#덧셈으로 list끼리 이을 수 있음.\n",
        "print(c)"
      ],
      "metadata": {
        "colab": {
          "base_uri": "https://localhost:8080/"
        },
        "id": "gF-8-dFtiq8T",
        "outputId": "ce5cb41d-bb86-4ec7-fed1-57ce5c4ee6f1"
      },
      "execution_count": null,
      "outputs": [
        {
          "output_type": "stream",
          "name": "stdout",
          "text": [
            "[1, 2, 3, 4, 5, 6, 7, 8]\n"
          ]
        }
      ]
    },
    {
      "cell_type": "code",
      "source": [
        "a = [1, 2, 3, 4, 5]\n",
        "b = [6, 7, 8]\n",
        "a.extend(b)\n",
        "#b가 가서 a뒤에 붙는다는 뜻. \n",
        "print(a)"
      ],
      "metadata": {
        "colab": {
          "base_uri": "https://localhost:8080/"
        },
        "id": "iavb_GP3i9lb",
        "outputId": "daf8088f-6987-4878-9387-a41458e6ff00"
      },
      "execution_count": null,
      "outputs": [
        {
          "output_type": "stream",
          "name": "stdout",
          "text": [
            "[1, 2, 3, 4, 5, 6, 7, 8]\n"
          ]
        }
      ]
    },
    {
      "cell_type": "markdown",
      "source": [
        "**중간에 삽입은 어떻게 하나요? \"insert\"**"
      ],
      "metadata": {
        "id": "5RAPgTdzjYf_"
      }
    },
    {
      "cell_type": "code",
      "source": [
        "a = [1, 2, 3, 4, 5]\n",
        "# 3번 인덱스의 자리에 10을 삽입. 3번 자리에 10이 들어가고 원래 원소들은 하나씩 밀리게 되는 셈.\n",
        "# 참고로 원래 3번 인덱스에 있던 원소는 없어지지 않고 뒤로 한 칸 밀리는 것이다.\n",
        "a.insert(3, 10) \n",
        "print(a)"
      ],
      "metadata": {
        "colab": {
          "base_uri": "https://localhost:8080/"
        },
        "id": "2xi7p3qnjCbv",
        "outputId": "c16c9274-ef3c-4db5-a702-9bc0a44600a1"
      },
      "execution_count": null,
      "outputs": [
        {
          "output_type": "stream",
          "name": "stdout",
          "text": [
            "[1, 2, 3, 10, 4, 5]\n"
          ]
        }
      ]
    },
    {
      "cell_type": "code",
      "source": [
        "#1. [1,2,3]이 있는 리스트를 만들고\n",
        "#2. [4,5,6,7]이 있는 리스트를 만들고\n",
        "#3. 두개를 합쳐서 새로운 리스트를 만들어 보고\n",
        "#4. 2번 인덱스에서 7번 인덱스까지를 추출해보고\n",
        "#5. 그 새로운 리스트의 제일 처음에 100 넣어보기\n",
        "\n",
        "list1 = [1,2,3]\n",
        "list2 = [4,5,6,7]\n",
        "list_sum = list1 + list2\n",
        "list_sum_crop = list_sum[2:8]\n",
        "list_sum_crop.insert(0,100)\n",
        "print(list_sum_crop)\n",
        "\n",
        "#list_sum_crop = [100] + list_sum_crop으로 만들어도 5번 문제 해결되긴 함. "
      ],
      "metadata": {
        "colab": {
          "base_uri": "https://localhost:8080/"
        },
        "id": "snW6pG9m4e6W",
        "outputId": "6ecbcb23-eb35-4047-ae6e-9b4522b13f2a"
      },
      "execution_count": null,
      "outputs": [
        {
          "output_type": "stream",
          "name": "stdout",
          "text": [
            "[100, 3, 4, 5, 6, 7]\n"
          ]
        }
      ]
    },
    {
      "cell_type": "markdown",
      "source": [
        "**pop과 remove는 값을 삭제합니다**\n",
        "- remove: remove() 함수의 인수로 넣은 값에 해당 하는 것을 리스트에서 찾아서 삭제\n",
        "- pop: pop() 함수의 인수로 넣은 값을 인덱스로 가지는 원소를 리스트에서 찾아서 삭제\n",
        " #### 특정 리스트에게 pop이나 remove 함수를 적용한 결과가 그 리스트에 계속 저장됨."
      ],
      "metadata": {
        "id": "qYWfsP1gjvXZ"
      }
    },
    {
      "cell_type": "code",
      "source": [
        "a = [1, 1, 2, 2, 3, 3]\n",
        "#remove()는 ()안의 아이템에 해당되는 것 중 제일 먼저 나오는 것 삭제. \n",
        "a.remove(2)\n",
        "print(a)\n",
        "\n",
        "# ()안의 아이템을 다 지우고 싶다면 반복문을 활용할 것. e.g. 2가 list 내에 없을 때까지 a.remove(2) 무한 반복.\n",
        "# 참고로 remove() 함수는 문자열에 대해서는 적용할 수 없다.\n",
        "b = [1,2,3,4,5,23,2,1,21,21]\n",
        "while 1 in b:\n",
        "  b.remove(1)\n",
        "print(b)\n",
        "# 1이 다 없어짐!\n",
        "# remove () 함수를 사용해서 만들어진 리스트를 수정해 나갈 수 있음. 특정 변수에서 특정 값을 제거한 상태가 저장된다는 장점도 가진 remove() 함수.\n",
        "# 그러니까.. a = [1,2,3] 리스트 대해 a.remove(1) 명령어를 쳐 주면 a 라는 변수 안에 저장된 리스트에서 1이라는 원소가 빠진 상태가 a에 저장되어 있음."
      ],
      "metadata": {
        "colab": {
          "base_uri": "https://localhost:8080/"
        },
        "id": "Fz2Zc2y7jkuU",
        "outputId": "4893b4c9-533a-43d9-dc2f-70f9960c211f"
      },
      "execution_count": null,
      "outputs": [
        {
          "output_type": "stream",
          "name": "stdout",
          "text": [
            "[1, 1, 2, 3, 3]\n",
            "[2, 3, 4, 5, 23, 2, 21, 21]\n"
          ]
        }
      ]
    },
    {
      "cell_type": "code",
      "source": [
        "a = [1, 5, 4, 1, 1, 5, 4, 1]\n",
        "#a.pop()의 괄호 내의 번호에 해당하는 index를 가지는 값을 a로부터 빼 낼수 있고 그 빼낸 값이 a.pop()을 쓴 지점으로 return된다.\n",
        "#주의할 점은... 그렇게 해서 변수에 저장된 list에서 빼낸 원소는 그 list 내로 돌아가지 않고 아예 빠져버리기에 해당 변수 안에 저장된 리스트에는 \"빼낸 원소\"가 빠진 상태가 저장된다.\n",
        "b = a.pop(3)\n",
        "print(b)\n",
        "print(a)"
      ],
      "metadata": {
        "colab": {
          "base_uri": "https://localhost:8080/"
        },
        "id": "HuatH-pZj9XI",
        "outputId": "61c92afc-ce68-442f-8995-a6ea0f488307"
      },
      "execution_count": null,
      "outputs": [
        {
          "output_type": "stream",
          "name": "stdout",
          "text": [
            "1\n",
            "[1, 5, 4, 1, 5, 4, 1]\n"
          ]
        }
      ]
    },
    {
      "cell_type": "markdown",
      "source": [
        "**index를 이용하면 특정 값이 어딨는지도 알 수 있어요**"
      ],
      "metadata": {
        "id": "JB_gM-ZTkMep"
      }
    },
    {
      "cell_type": "code",
      "source": [
        "a = [1, 5, 3, 10, 55]\n",
        "print(a.index(10))\n",
        "# index () 함수에 인수로 index를 알고 싶은 값을 입력하면 해당 값의 index를 return 해 준다.\n",
        "\n",
        "# print(a.index(\"가\")) 이렇게 입력했을 경우 에러가 뜬다. 왜냐면... \"가\" 라는 값이 위의 a 리스트 안에 없기 때문이다."
      ],
      "metadata": {
        "colab": {
          "base_uri": "https://localhost:8080/"
        },
        "id": "WQ-vG9NYkHoP",
        "outputId": "4aa7efd7-b4e2-4034-9f03-1d6ff9980263"
      },
      "execution_count": null,
      "outputs": [
        {
          "output_type": "stream",
          "name": "stdout",
          "text": [
            "3\n"
          ]
        }
      ]
    },
    {
      "cell_type": "code",
      "source": [
        "a = [5,10,20,100,150]\n",
        "i = a.index(100)\n",
        "# index() 함수를 사용해서 특정 값을 수정할 수 있음. index 값을 알면 리스트 안의 원소에 접근할 수 있는 것을 활용하면 가능하다.\n",
        "# a 라는 리스트에서 100이란 값을 500으로 대체해 버렸다.\n",
        "a[i] = 500\n",
        "print(a)"
      ],
      "metadata": {
        "colab": {
          "base_uri": "https://localhost:8080/"
        },
        "id": "7_2Hp_N77IXA",
        "outputId": "d3b771bc-77b1-49b5-f8b0-367247677dc7"
      },
      "execution_count": null,
      "outputs": [
        {
          "output_type": "stream",
          "name": "stdout",
          "text": [
            "[5, 10, 20, 500, 150]\n"
          ]
        }
      ]
    },
    {
      "cell_type": "code",
      "source": [
        "name = [\"써니\",\"순규\",\"아이유\",\"태연\"]\n",
        "score=[100,90,50,30]\n",
        "\n",
        "#두 리스트를 연동할 수 있는 예시; 두 리스트에서 index가 동일하면 같은 성질을 가지는 원소라는 가정이 있어야만 가능하다.\n",
        "#아이유의 점수는?\n",
        "i = name.index(\"아이유\")\n",
        "print(score[i])\n",
        "\n",
        "#30점인 사람을 출력하려면\n",
        "p = score.index(30)\n",
        "print(name[p])"
      ],
      "metadata": {
        "colab": {
          "base_uri": "https://localhost:8080/"
        },
        "id": "D66qPMqb7awK",
        "outputId": "9f1a2582-b811-4fa5-8590-469e1af34c25"
      },
      "execution_count": null,
      "outputs": [
        {
          "output_type": "stream",
          "name": "stdout",
          "text": [
            "50\n",
            "태연\n"
          ]
        }
      ]
    },
    {
      "cell_type": "markdown",
      "source": [
        "**리스트에 어떤 값이 있는지 확안하려면 in을 이용합시다**"
      ],
      "metadata": {
        "id": "dac8OxeHlrK_"
      }
    },
    {
      "cell_type": "code",
      "source": [
        "a = [1, 5, 3, 10, 55]\n",
        "\n",
        "# 3 이라는 값이 a 리스트 안에 있냐고 묻는 것.\n",
        "# (3 in a)에 대해 True 이면 a라는 리스트 안에 3이라는 값이 있는 것이고 False 이면 a라는 리스트 안에 3이라는 값이 없는 것.\n",
        "if 3 in a:\n",
        "    print(\"3은 a리스트에 있습니다.\")\n",
        "else:\n",
        "    print(\"3은 a리스트에 없습니다.\")"
      ],
      "metadata": {
        "colab": {
          "base_uri": "https://localhost:8080/"
        },
        "id": "OLYLcukFlpxl",
        "outputId": "ace70e0b-488a-4b9d-ef43-e3b1c21b72d8"
      },
      "execution_count": null,
      "outputs": [
        {
          "output_type": "stream",
          "name": "stdout",
          "text": [
            "3은 a리스트에 있습니다.\n"
          ]
        }
      ]
    },
    {
      "cell_type": "markdown",
      "source": [
        "**리스트에 몇 개의 아이템이 있을까요? len**"
      ],
      "metadata": {
        "id": "EV2fv0q_yq29"
      }
    },
    {
      "cell_type": "code",
      "source": [
        "a = [1, 5, 3, 10, 55]\n",
        "#list 내의 item 개수 출력하기 위해 쓰는 len 함수.\n",
        "# a list 내에 있는 원소 개수가 len(a) 함수의 결과. 이때 주의해야 하는게, a list에 index가 몇까지 있는지 묻는 건 아니라는 점이다.\n",
        "print(len(a))\n",
        "\n",
        "a.remove(1)\n",
        "print(a)\n",
        "print(len(a))"
      ],
      "metadata": {
        "colab": {
          "base_uri": "https://localhost:8080/"
        },
        "id": "vL7hpT0Uyu4c",
        "outputId": "6aafd85d-fed0-412c-f275-2bbf2424a12c"
      },
      "execution_count": null,
      "outputs": [
        {
          "output_type": "stream",
          "name": "stdout",
          "text": [
            "5\n",
            "[5, 3, 10, 55]\n",
            "4\n"
          ]
        }
      ]
    },
    {
      "cell_type": "markdown",
      "source": [
        "## **3. 튜플이란 무엇일까요?**\n",
        "- 복수개의 값을 담을 수 있는 데이터 구조\n",
        "- inmutable: 생성된 후 변경 불가.\n",
        "- () 안에 값을 담아서 생성"
      ],
      "metadata": {
        "id": "0yTRhBf0mHhN"
      }
    },
    {
      "cell_type": "code",
      "source": [
        "#list와 tuple의 차이점은 생성한 뒤 변경이 가능한지 아닌지 여부임. 해킹을 방지하기 위해 tuple로 프로그래밍 하는 경우도 있음. 해킹으로도 정보들을 바꿀 수 없도록 하기 위해.\n",
        "a = (1, 2, 3, 4, 5)\n",
        "a[3] = 10 # tuple은 이렇게 다시 assign이 불가능함. immutable한 tuple의 특징이 드러나는 사례.\n",
        "print(a)"
      ],
      "metadata": {
        "colab": {
          "base_uri": "https://localhost:8080/",
          "height": 227
        },
        "id": "QpZFDXCMl7pR",
        "outputId": "6e231dc4-eefb-47d6-b6ee-9fff09d4d1f8"
      },
      "execution_count": null,
      "outputs": [
        {
          "output_type": "error",
          "ename": "TypeError",
          "evalue": "ignored",
          "traceback": [
            "\u001b[0;31m---------------------------------------------------------------------------\u001b[0m",
            "\u001b[0;31mTypeError\u001b[0m                                 Traceback (most recent call last)",
            "\u001b[0;32m<ipython-input-24-6e4181239540>\u001b[0m in \u001b[0;36m<module>\u001b[0;34m\u001b[0m\n\u001b[1;32m      1\u001b[0m \u001b[0;31m#list와 tuple의 차이점은 생성한 뒤 변경이 가능한지 아닌지 여부임. 해킹을 방지하기 위해 tuple로 프로그래밍 하는 경우도 있음.\u001b[0m\u001b[0;34m\u001b[0m\u001b[0;34m\u001b[0m\u001b[0;34m\u001b[0m\u001b[0m\n\u001b[1;32m      2\u001b[0m \u001b[0ma\u001b[0m \u001b[0;34m=\u001b[0m \u001b[0;34m(\u001b[0m\u001b[0;36m1\u001b[0m\u001b[0;34m,\u001b[0m \u001b[0;36m2\u001b[0m\u001b[0;34m,\u001b[0m \u001b[0;36m3\u001b[0m\u001b[0;34m,\u001b[0m \u001b[0;36m4\u001b[0m\u001b[0;34m,\u001b[0m \u001b[0;36m5\u001b[0m\u001b[0;34m)\u001b[0m\u001b[0;34m\u001b[0m\u001b[0;34m\u001b[0m\u001b[0m\n\u001b[0;32m----> 3\u001b[0;31m \u001b[0ma\u001b[0m\u001b[0;34m[\u001b[0m\u001b[0;36m3\u001b[0m\u001b[0;34m]\u001b[0m \u001b[0;34m=\u001b[0m \u001b[0;36m10\u001b[0m \u001b[0;31m# tuple은 이렇게 다시 assign이 불가능함. immutable한 tuple의 특징이 드러나는 사례.\u001b[0m\u001b[0;34m\u001b[0m\u001b[0;34m\u001b[0m\u001b[0m\n\u001b[0m\u001b[1;32m      4\u001b[0m \u001b[0mprint\u001b[0m\u001b[0;34m(\u001b[0m\u001b[0ma\u001b[0m\u001b[0;34m)\u001b[0m\u001b[0;34m\u001b[0m\u001b[0;34m\u001b[0m\u001b[0m\n",
            "\u001b[0;31mTypeError\u001b[0m: 'tuple' object does not support item assignment"
          ]
        }
      ]
    },
    {
      "cell_type": "markdown",
      "source": [
        "**tuple unpacking**"
      ],
      "metadata": {
        "id": "mtX6JCMfmZsU"
      }
    },
    {
      "cell_type": "code",
      "source": [
        "a = 3, 5\n",
        "# tuple을 만들 때 3,5라는 tuple의 () 양옆에 있는 걸 생략해서 씀.\n",
        "print(a)\n",
        "# tuple에도 index로 접근 가능하다.\n",
        "print(a[1])"
      ],
      "metadata": {
        "colab": {
          "base_uri": "https://localhost:8080/"
        },
        "id": "fAJVL79rmUHT",
        "outputId": "2b79c7b9-81ba-4be3-ee61-4ada759ac40a"
      },
      "execution_count": null,
      "outputs": [
        {
          "output_type": "stream",
          "name": "stdout",
          "text": [
            "(3, 5)\n",
            "5\n"
          ]
        }
      ]
    },
    {
      "cell_type": "markdown",
      "source": [
        "## **3. 중간 복습 한번 하고 갑시다.**"
      ],
      "metadata": {
        "id": "SjRGBAkmmdTS"
      }
    },
    {
      "cell_type": "markdown",
      "source": [
        "**<중간복습1>**\n",
        "\n",
        "a는 [1, 2, 3, 4, 5]가 담긴 리스트 입니다.\n",
        "\n",
        "인덱스에 접근해서 [1, 5, 6, 4, 5]로 바꿔보세요."
      ],
      "metadata": {
        "id": "OwdX6fC3nbYW"
      }
    },
    {
      "cell_type": "code",
      "source": [
        "a = [1, 2, 3, 4, 5]\n",
        "a[1],a[2] = 5 , 6\n",
        "print(a)"
      ],
      "metadata": {
        "id": "wIxlGfnymcYN",
        "colab": {
          "base_uri": "https://localhost:8080/"
        },
        "outputId": "925b135c-693a-4b22-94b7-ceaf89a5f384"
      },
      "execution_count": null,
      "outputs": [
        {
          "output_type": "stream",
          "name": "stdout",
          "text": [
            "[1, 5, 6, 4, 5]\n"
          ]
        }
      ]
    },
    {
      "cell_type": "markdown",
      "source": [
        "**<중간복습2>**\n",
        "\n",
        "a는 [1, 2, 3, 4, 5]가 담긴 리스트 입니다.\n",
        "\n",
        "리스트 덧셈을 이용해 [1, 2, 3, 4, 5, 10, 11] 리스트로 바꿔보세요."
      ],
      "metadata": {
        "id": "wDdO9U-2pjqi"
      }
    },
    {
      "cell_type": "code",
      "source": [
        "a = [1, 2, 3, 4, 5]\n",
        "b = [10,11]\n",
        "c = a + b\n",
        "print(c)"
      ],
      "metadata": {
        "id": "YmXicO-qpiu3",
        "colab": {
          "base_uri": "https://localhost:8080/"
        },
        "outputId": "2baacea8-f254-43b9-9094-efdeebe13ebd"
      },
      "execution_count": null,
      "outputs": [
        {
          "output_type": "stream",
          "name": "stdout",
          "text": [
            "[1, 2, 3, 4, 5, 10, 11]\n"
          ]
        }
      ]
    },
    {
      "cell_type": "code",
      "source": [
        "a = [1, 2, 3, 4, 5]\n",
        "a.extend([10,11])\n",
        "print(a)"
      ],
      "metadata": {
        "colab": {
          "base_uri": "https://localhost:8080/"
        },
        "id": "n6GePd5sA4u_",
        "outputId": "4c2bee4a-7dea-458f-bc75-ca2d80fff0d1"
      },
      "execution_count": null,
      "outputs": [
        {
          "output_type": "stream",
          "name": "stdout",
          "text": [
            "[1, 2, 3, 4, 5, 10, 11]\n"
          ]
        }
      ]
    },
    {
      "cell_type": "markdown",
      "source": [
        "**<중간복습3>**\n",
        "\n",
        "a는 [1, 2, 3, 4, 5]가 담긴 리스트 입니다.\n",
        "\n",
        "pop이나 remove를 이용해 [1,2, 4, 5] 리스트로 바꿔보세요."
      ],
      "metadata": {
        "id": "wkvS8k54ptiK"
      }
    },
    {
      "cell_type": "code",
      "source": [
        "a = [1, 2, 3, 4, 5]\n",
        "# remove를 사용한 경우\n",
        "a.remove(3)\n",
        "#remove() 함수의 경우 argument(인수)로 어떤 값을 지울지 지정 (지울 값의 인덱스 번호를 지정하는 것이 아님에 주의. 이게 pop() 함수의 인수랑 달라서 헷갈리기 쉬움.)\n",
        "print(a)"
      ],
      "metadata": {
        "colab": {
          "base_uri": "https://localhost:8080/"
        },
        "id": "qyqaymqp-Gm9",
        "outputId": "ca3d1071-08b9-4d29-b0d4-e92db9c0647d"
      },
      "execution_count": null,
      "outputs": [
        {
          "output_type": "stream",
          "name": "stdout",
          "text": [
            "[1, 2, 4, 5]\n"
          ]
        }
      ]
    },
    {
      "cell_type": "code",
      "source": [
        "a = [1, 2, 3, 4, 5]\n",
        "# pop을 사용한 경우\n",
        "# 그냥 리스트 a의 index 2에 있는 값을 뽑아냄.\n",
        "a.pop(2)\n",
        "# pop() 함수의 경우 argument로 index 번호를 입력 받고 어떤 index를 뽑아 낼지 결정. remove()함수와 헷갈리기 쉬우니 조심.\n",
        "print(a)"
      ],
      "metadata": {
        "id": "BBIMWkcMpsuq",
        "colab": {
          "base_uri": "https://localhost:8080/"
        },
        "outputId": "4cf96b38-2cf6-4522-8f59-3499ce7e50a0"
      },
      "execution_count": null,
      "outputs": [
        {
          "output_type": "stream",
          "name": "stdout",
          "text": [
            "[1, 2, 4, 5]\n"
          ]
        }
      ]
    },
    {
      "cell_type": "code",
      "source": [
        "a = [1,2,3,4,5]\n",
        "i = a.index(3)\n",
        "# 3이라는 값의 index를 변수 i에 저장할 수 있음. 그 다음 해당 인덱스를 가지는 값을 리스트 a에서 뽑아내기.\n",
        "a.pop(i)\n",
        "print(a)"
      ],
      "metadata": {
        "colab": {
          "base_uri": "https://localhost:8080/"
        },
        "id": "CyuqEL_pBYrV",
        "outputId": "5be56067-b39b-4732-cd7e-041f6bd2d4d3"
      },
      "execution_count": null,
      "outputs": [
        {
          "output_type": "stream",
          "name": "stdout",
          "text": [
            "[1, 2, 4, 5]\n"
          ]
        }
      ]
    },
    {
      "cell_type": "markdown",
      "source": [
        "**<중간복습4>**\n",
        "\n",
        "a는 [1, 2, 3, 4, 5, 6, 7, 8, 9, 10]가 담긴 리스트 입니다.\n",
        "\n",
        "리스트 슬라이싱을 이용해 [5, 6, 7, 8]을 출력해보세요."
      ],
      "metadata": {
        "id": "kh3NJBkRqvne"
      }
    },
    {
      "cell_type": "code",
      "source": [
        "a = [1, 2, 3, 4, 5, 6, 7, 8, 9, 10]\n",
        "a_sliced = a[4:8]\n",
        "print(a_sliced)"
      ],
      "metadata": {
        "id": "CcCqzAiHqiPb",
        "colab": {
          "base_uri": "https://localhost:8080/"
        },
        "outputId": "5a3765e6-35f7-4d9b-f1d8-c211f55545b2"
      },
      "execution_count": null,
      "outputs": [
        {
          "output_type": "stream",
          "name": "stdout",
          "text": [
            "[5, 6, 7, 8]\n"
          ]
        }
      ]
    },
    {
      "cell_type": "markdown",
      "source": [
        "## **4. 반복문**\n",
        "- 반복적인 작업을 가능하게 해줍니다.\n",
        "- for를 이용하면, 리스트와 문자열 등 컬렉션 타입 아이템을 하나씩 순회할 수 있습니다.\n",
        "- while을 이용하면, 특정 조건을 만족하는 경우 계속 반복이 가능합니다."
      ],
      "metadata": {
        "id": "llTNDu55q2bB"
      }
    },
    {
      "cell_type": "code",
      "source": [
        "a = [1, 2, 3, 4, 5]\n",
        "\n",
        "#치밀한 조건 하에서는 while, 일반적으로는 for문을 사용하곤 함. 일반적으로 그렇다는 것.\n",
        "\n",
        "# item이라는 변수를 만들고 그 변수 내에 a 라는 리스트의 모든 item을 하나씩 넣어보고 싶을 때 쓰는 조건문이 밑에 예시로 있음.\n",
        "# for item in a 라고 한다면 item = a[0] / item = a[1] / item = a[2] / item = a[3] / item = a[4] 이렇게 반복되는 것. 그걸 print(item)으로 매번 보여주게 된 것.\n",
        "# for 문에서 for (변수) in (리스트/튜플/문자열) 이렇게 되어 있을 경우 해당 (리스트/튜플/문자열) 내의 모든 원소를 index 0부터 시작해 마지막 index까지 순서대로 변수에 대입해가며 종속 명령 실행.\n",
        "for item in a:\n",
        "    print(item)"
      ],
      "metadata": {
        "colab": {
          "base_uri": "https://localhost:8080/"
        },
        "id": "1KWXULAFq1MI",
        "outputId": "04f19e30-f44e-46e9-aeb5-078a079b50ed"
      },
      "execution_count": null,
      "outputs": [
        {
          "output_type": "stream",
          "name": "stdout",
          "text": [
            "1\n",
            "2\n",
            "3\n",
            "4\n",
            "5\n"
          ]
        }
      ]
    },
    {
      "cell_type": "code",
      "source": [
        "a = [1, 2, 3, 4, 5]\n",
        "\n",
        "for item in a:\n",
        "    print(item*2)\n",
        "    print(\"----\")\n",
        "print(\"끝!\")\n",
        "#item = a[0]\n",
        "#print(item*2)\n",
        "#item = a[1]\n",
        "#print(item*2)\n",
        "#(...) 이런 식으로 item = a[4]까지 계속 반복되는 것이 for문으로 표현된 것. "
      ],
      "metadata": {
        "colab": {
          "base_uri": "https://localhost:8080/"
        },
        "id": "kLkT0pbCtq_B",
        "outputId": "bef12fdd-0324-467f-be7c-8d25538d01ed"
      },
      "execution_count": null,
      "outputs": [
        {
          "output_type": "stream",
          "name": "stdout",
          "text": [
            "2\n",
            "----\n",
            "4\n",
            "----\n",
            "6\n",
            "----\n",
            "8\n",
            "----\n",
            "10\n",
            "----\n",
            "끝!\n"
          ]
        }
      ]
    },
    {
      "cell_type": "code",
      "source": [
        "a = [\"고양이\", \"강아지\", \"고슴도치\"]\n",
        "\n",
        "#a를 반복문으로 돌면서 \"나는 OOO가 좋아\" 라고 출력해봅시다.\n",
        "\n",
        "for pet in a:\n",
        "  #print(\"나는 {}가 좋아\".format(pet))\n",
        "  print(f\"나는 {pet}가 좋아\")"
      ],
      "metadata": {
        "colab": {
          "base_uri": "https://localhost:8080/"
        },
        "id": "VzVtxed1DY6v",
        "outputId": "fd6036cf-d899-4ae4-97a2-c103dfa4cb0b"
      },
      "execution_count": null,
      "outputs": [
        {
          "output_type": "stream",
          "name": "stdout",
          "text": [
            "나는 고양이가 좋아\n",
            "나는 강아지가 좋아\n",
            "나는 고슴도치가 좋아\n"
          ]
        }
      ]
    },
    {
      "cell_type": "code",
      "source": [
        "b = [1, 2, 3, 4, 5, 6, 7, 8, 9, 10]\n",
        "#i에 1부터 10까지 다 대입될 예정.\n",
        "for i in b:\n",
        "    #2로 나누어 떨어질 때만 출력되게 만들기.\n",
        "    #그 외엔 아무것도 실행되지 않음. 그래서 else 생략.\n",
        "    if i % 2 == 0:\n",
        "        print(i)"
      ],
      "metadata": {
        "colab": {
          "base_uri": "https://localhost:8080/"
        },
        "id": "kcYoQaSkttI-",
        "outputId": "34538156-e70b-4f57-c293-40e471b6d373"
      },
      "execution_count": null,
      "outputs": [
        {
          "output_type": "stream",
          "name": "stdout",
          "text": [
            "2\n",
            "4\n",
            "6\n",
            "8\n",
            "10\n"
          ]
        }
      ]
    },
    {
      "cell_type": "code",
      "source": [
        "a = [10,20,30,40,50,60]\n",
        "#a에서 40 이상인 수만 출력하는 프로그램을 작성해보세요.\n",
        "#이상/이하/초과/미만 주의해서 문제 읽기! (은근 간과하기 쉬움)\n",
        "for num in a:\n",
        "  if num >= 40:\n",
        "    print(num)"
      ],
      "metadata": {
        "colab": {
          "base_uri": "https://localhost:8080/"
        },
        "id": "1F0OgKlpEw2x",
        "outputId": "5e7f713a-f737-4fcf-8e1e-f86824300e67"
      },
      "execution_count": null,
      "outputs": [
        {
          "output_type": "stream",
          "name": "stdout",
          "text": [
            "40\n",
            "50\n",
            "60\n"
          ]
        }
      ]
    },
    {
      "cell_type": "code",
      "source": [
        "number = 0\n",
        "\n",
        "while number < 10:\n",
        "  print(number)\n",
        "  number = number+1\n",
        "\n",
        "print(\"끝났네\")\n",
        "# number = number +1의 결과로 number가 10이 된 순간, while문 뒤의 조건인 number<10에 해당 안되게 되어 그 순간 while문에 종속된 박스의 명령들 계산 안 하고 while문 끝나게 됨. \n",
        "# for 문도 그렇고 while 문도 그렇고 반복문 돌 때 조건이 True인지 False인지 체크 후 True 이면 밑의 종속 명령들 다 수행 후 다시 조건으로 돌아옴. \n",
        "# 이후 다시 조건이 True인지 False인지 체크 후 True이면 밑의 종속 명령들 다시 수행 후 다시 조건으로 돌아가고 False이면 밑의 종속 명령들 다 건너 뛰고 반복문 끝냄."
      ],
      "metadata": {
        "colab": {
          "base_uri": "https://localhost:8080/"
        },
        "id": "0komMe2LF-gk",
        "outputId": "35188f87-e418-4301-9fbb-a61b069bae68"
      },
      "execution_count": null,
      "outputs": [
        {
          "output_type": "stream",
          "name": "stdout",
          "text": [
            "0\n",
            "1\n",
            "2\n",
            "3\n",
            "4\n",
            "5\n",
            "6\n",
            "7\n",
            "8\n",
            "9\n",
            "끝났네\n"
          ]
        }
      ]
    },
    {
      "cell_type": "code",
      "source": [
        "#while은 while 뒤의 조건에 해당 하는지 제일 먼저 따져보고 해당 되면 (그러니까 True이면) 그 이후의 명령들 실행. 처음에 그 조건에 해당 안되면 (False이면) while문에 포함되는 명령들 실행 안됨.\n",
        "#i == 0 -> i < len(a) -> print(~) -> i += 1 -> i == 1 -> i < len (a) 해당 -> while 문 밑에 반복 -> (...) -> i == 4이게 되면 while문 끝.\n",
        "a = [1, 10, 9, 24]\n",
        "\n",
        "i = 0\n",
        "#i==4인 순간 4 < len(a)가 아니게 되므로 while 뒤의 조건이 false가 되어 while 문은 끝나게 됨. \n",
        "while i < len(a):\n",
        "    print('value: ', a[i], ', index: ', i)\n",
        "    i += 1"
      ],
      "metadata": {
        "colab": {
          "base_uri": "https://localhost:8080/"
        },
        "id": "18nNkL7At6bK",
        "outputId": "e034c52b-ff8e-470b-8a44-bed5cb012674"
      },
      "execution_count": null,
      "outputs": [
        {
          "output_type": "stream",
          "name": "stdout",
          "text": [
            "value:  1 , index:  0\n",
            "value:  10 , index:  1\n",
            "value:  9 , index:  2\n",
            "value:  24 , index:  3\n"
          ]
        }
      ]
    },
    {
      "cell_type": "code",
      "source": [
        "a = [1,2,3,4,5,6,7,8,9,10]\n",
        "#while을 사용해서, 홀수만 출력하는 프로그램을 만들어 봅시다.\n",
        "i = 0\n",
        "#i에 10이 저장되게 되는 순간 while문에 해당이 안되게 되어 끝나게 됨. \n",
        "#이 경우 else 생략. else의 경우 아무것도 하지 않으니까.\n",
        "#while문 같은 경우 break문을 사용해 끝을 내기도 함. \n",
        "while i < len(a):\n",
        "  if (a[i] % 2) != 0:\n",
        "    print(a[i])\n",
        "  i += 1"
      ],
      "metadata": {
        "colab": {
          "base_uri": "https://localhost:8080/"
        },
        "id": "NHryGlVbG-m5",
        "outputId": "860eb75d-0d0f-4cff-b117-bf77ef28f94f"
      },
      "execution_count": null,
      "outputs": [
        {
          "output_type": "stream",
          "name": "stdout",
          "text": [
            "1\n",
            "3\n",
            "5\n",
            "7\n",
            "9\n"
          ]
        }
      ]
    },
    {
      "cell_type": "markdown",
      "source": [
        "**range를 이용하면 더 편하게 구현이 가능합니다**"
      ],
      "metadata": {
        "id": "zU3S9U4k0sTB"
      }
    },
    {
      "cell_type": "code",
      "source": [
        "#리스트에 엄청 많은 수들을 하나하나 다 적는것은 매우 어려운 일이므로 range(10000000) 이런 식으로 간단하게 표현 가능.\n",
        "blank = list()\n",
        "# range를 이용해 0부터 1000까지의 원소가 담긴 리스트를 만들 수 있습니다.\n",
        "for i in range(1001):\n",
        "    blank.append(i)\n",
        "print(blank)"
      ],
      "metadata": {
        "colab": {
          "base_uri": "https://localhost:8080/"
        },
        "id": "5KZvz_7R0xgm",
        "outputId": "e57001b1-e41b-450e-e54a-d798c96fbc60"
      },
      "execution_count": null,
      "outputs": [
        {
          "output_type": "stream",
          "name": "stdout",
          "text": [
            "[0, 1, 2, 3, 4, 5, 6, 7, 8, 9, 10, 11, 12, 13, 14, 15, 16, 17, 18, 19, 20, 21, 22, 23, 24, 25, 26, 27, 28, 29, 30, 31, 32, 33, 34, 35, 36, 37, 38, 39, 40, 41, 42, 43, 44, 45, 46, 47, 48, 49, 50, 51, 52, 53, 54, 55, 56, 57, 58, 59, 60, 61, 62, 63, 64, 65, 66, 67, 68, 69, 70, 71, 72, 73, 74, 75, 76, 77, 78, 79, 80, 81, 82, 83, 84, 85, 86, 87, 88, 89, 90, 91, 92, 93, 94, 95, 96, 97, 98, 99, 100, 101, 102, 103, 104, 105, 106, 107, 108, 109, 110, 111, 112, 113, 114, 115, 116, 117, 118, 119, 120, 121, 122, 123, 124, 125, 126, 127, 128, 129, 130, 131, 132, 133, 134, 135, 136, 137, 138, 139, 140, 141, 142, 143, 144, 145, 146, 147, 148, 149, 150, 151, 152, 153, 154, 155, 156, 157, 158, 159, 160, 161, 162, 163, 164, 165, 166, 167, 168, 169, 170, 171, 172, 173, 174, 175, 176, 177, 178, 179, 180, 181, 182, 183, 184, 185, 186, 187, 188, 189, 190, 191, 192, 193, 194, 195, 196, 197, 198, 199, 200, 201, 202, 203, 204, 205, 206, 207, 208, 209, 210, 211, 212, 213, 214, 215, 216, 217, 218, 219, 220, 221, 222, 223, 224, 225, 226, 227, 228, 229, 230, 231, 232, 233, 234, 235, 236, 237, 238, 239, 240, 241, 242, 243, 244, 245, 246, 247, 248, 249, 250, 251, 252, 253, 254, 255, 256, 257, 258, 259, 260, 261, 262, 263, 264, 265, 266, 267, 268, 269, 270, 271, 272, 273, 274, 275, 276, 277, 278, 279, 280, 281, 282, 283, 284, 285, 286, 287, 288, 289, 290, 291, 292, 293, 294, 295, 296, 297, 298, 299, 300, 301, 302, 303, 304, 305, 306, 307, 308, 309, 310, 311, 312, 313, 314, 315, 316, 317, 318, 319, 320, 321, 322, 323, 324, 325, 326, 327, 328, 329, 330, 331, 332, 333, 334, 335, 336, 337, 338, 339, 340, 341, 342, 343, 344, 345, 346, 347, 348, 349, 350, 351, 352, 353, 354, 355, 356, 357, 358, 359, 360, 361, 362, 363, 364, 365, 366, 367, 368, 369, 370, 371, 372, 373, 374, 375, 376, 377, 378, 379, 380, 381, 382, 383, 384, 385, 386, 387, 388, 389, 390, 391, 392, 393, 394, 395, 396, 397, 398, 399, 400, 401, 402, 403, 404, 405, 406, 407, 408, 409, 410, 411, 412, 413, 414, 415, 416, 417, 418, 419, 420, 421, 422, 423, 424, 425, 426, 427, 428, 429, 430, 431, 432, 433, 434, 435, 436, 437, 438, 439, 440, 441, 442, 443, 444, 445, 446, 447, 448, 449, 450, 451, 452, 453, 454, 455, 456, 457, 458, 459, 460, 461, 462, 463, 464, 465, 466, 467, 468, 469, 470, 471, 472, 473, 474, 475, 476, 477, 478, 479, 480, 481, 482, 483, 484, 485, 486, 487, 488, 489, 490, 491, 492, 493, 494, 495, 496, 497, 498, 499, 500, 501, 502, 503, 504, 505, 506, 507, 508, 509, 510, 511, 512, 513, 514, 515, 516, 517, 518, 519, 520, 521, 522, 523, 524, 525, 526, 527, 528, 529, 530, 531, 532, 533, 534, 535, 536, 537, 538, 539, 540, 541, 542, 543, 544, 545, 546, 547, 548, 549, 550, 551, 552, 553, 554, 555, 556, 557, 558, 559, 560, 561, 562, 563, 564, 565, 566, 567, 568, 569, 570, 571, 572, 573, 574, 575, 576, 577, 578, 579, 580, 581, 582, 583, 584, 585, 586, 587, 588, 589, 590, 591, 592, 593, 594, 595, 596, 597, 598, 599, 600, 601, 602, 603, 604, 605, 606, 607, 608, 609, 610, 611, 612, 613, 614, 615, 616, 617, 618, 619, 620, 621, 622, 623, 624, 625, 626, 627, 628, 629, 630, 631, 632, 633, 634, 635, 636, 637, 638, 639, 640, 641, 642, 643, 644, 645, 646, 647, 648, 649, 650, 651, 652, 653, 654, 655, 656, 657, 658, 659, 660, 661, 662, 663, 664, 665, 666, 667, 668, 669, 670, 671, 672, 673, 674, 675, 676, 677, 678, 679, 680, 681, 682, 683, 684, 685, 686, 687, 688, 689, 690, 691, 692, 693, 694, 695, 696, 697, 698, 699, 700, 701, 702, 703, 704, 705, 706, 707, 708, 709, 710, 711, 712, 713, 714, 715, 716, 717, 718, 719, 720, 721, 722, 723, 724, 725, 726, 727, 728, 729, 730, 731, 732, 733, 734, 735, 736, 737, 738, 739, 740, 741, 742, 743, 744, 745, 746, 747, 748, 749, 750, 751, 752, 753, 754, 755, 756, 757, 758, 759, 760, 761, 762, 763, 764, 765, 766, 767, 768, 769, 770, 771, 772, 773, 774, 775, 776, 777, 778, 779, 780, 781, 782, 783, 784, 785, 786, 787, 788, 789, 790, 791, 792, 793, 794, 795, 796, 797, 798, 799, 800, 801, 802, 803, 804, 805, 806, 807, 808, 809, 810, 811, 812, 813, 814, 815, 816, 817, 818, 819, 820, 821, 822, 823, 824, 825, 826, 827, 828, 829, 830, 831, 832, 833, 834, 835, 836, 837, 838, 839, 840, 841, 842, 843, 844, 845, 846, 847, 848, 849, 850, 851, 852, 853, 854, 855, 856, 857, 858, 859, 860, 861, 862, 863, 864, 865, 866, 867, 868, 869, 870, 871, 872, 873, 874, 875, 876, 877, 878, 879, 880, 881, 882, 883, 884, 885, 886, 887, 888, 889, 890, 891, 892, 893, 894, 895, 896, 897, 898, 899, 900, 901, 902, 903, 904, 905, 906, 907, 908, 909, 910, 911, 912, 913, 914, 915, 916, 917, 918, 919, 920, 921, 922, 923, 924, 925, 926, 927, 928, 929, 930, 931, 932, 933, 934, 935, 936, 937, 938, 939, 940, 941, 942, 943, 944, 945, 946, 947, 948, 949, 950, 951, 952, 953, 954, 955, 956, 957, 958, 959, 960, 961, 962, 963, 964, 965, 966, 967, 968, 969, 970, 971, 972, 973, 974, 975, 976, 977, 978, 979, 980, 981, 982, 983, 984, 985, 986, 987, 988, 989, 990, 991, 992, 993, 994, 995, 996, 997, 998, 999]\n"
          ]
        }
      ]
    },
    {
      "cell_type": "code",
      "source": [
        "#0부터 100까지 중에 짝수만 출력해보겠습니다.\n",
        "#print() 함수에서 end = \"____\" 여기의 ____ 안에 무엇을 넣었는지에 따라 print() 함수를 통해 특정 값을 화면에 출력한 뒤 그 뒤에 바로 ____를 붙여 준다.\n",
        "#' // '를 넣을 경우 print()에서 출력하기 원하는 값인 t에 담긴 값 출력 후 바로 뒤에 \" // \"를 붙여주니까 밑의 결과가 나옴.\n",
        "for t in range(101):\n",
        "  if (t%2) == 0:\n",
        "    print(t,end=' // ')"
      ],
      "metadata": {
        "colab": {
          "base_uri": "https://localhost:8080/"
        },
        "id": "qI573hVKJRSq",
        "outputId": "bcb6e483-2c50-438c-8edc-8a2840d6dcb6"
      },
      "execution_count": null,
      "outputs": [
        {
          "output_type": "stream",
          "name": "stdout",
          "text": [
            "0 // 2 // 4 // 6 // 8 // 10 // 12 // 14 // 16 // 18 // 20 // 22 // 24 // 26 // 28 // 30 // 32 // 34 // 36 // 38 // 40 // 42 // 44 // 46 // 48 // 50 // 52 // 54 // 56 // 58 // 60 // 62 // 64 // 66 // 68 // 70 // 72 // 74 // 76 // 78 // 80 // 82 // 84 // 86 // 88 // 90 // 92 // 94 // 96 // 98 // 100 // "
          ]
        }
      ]
    },
    {
      "cell_type": "code",
      "source": [
        " # range()함수의 구간 설정 가능. 첫 번째 인수는 start. 두 번째 인수는 stop. 세 번째 인수는 step이다.\n",
        "for i in range(10,20):\n",
        "  print(i)"
      ],
      "metadata": {
        "colab": {
          "base_uri": "https://localhost:8080/"
        },
        "id": "QaIBrBqHLY6w",
        "outputId": "7b284c06-09e6-4266-b485-49b9d5bd10dc"
      },
      "execution_count": null,
      "outputs": [
        {
          "output_type": "stream",
          "name": "stdout",
          "text": [
            "10\n",
            "11\n",
            "12\n",
            "13\n",
            "14\n",
            "15\n",
            "16\n",
            "17\n",
            "18\n",
            "19\n"
          ]
        }
      ]
    },
    {
      "cell_type": "markdown",
      "source": [
        "**단순 반복을 위해서는 _를 사용할 수도 있죠**"
      ],
      "metadata": {
        "id": "rVvJux3o06JO"
      }
    },
    {
      "cell_type": "code",
      "source": [
        "#for문 내의 명령들에서 for문의 조건 내의 변수가 필요하지 않을 때 for문 조건의 변수를 별 의미 없는 걸로 설정해도 됨.\n",
        "#이 경우 for 다음에 오는 _가 for에 딸린 종속 명령문들에서 필요하지 않음. 단지 5번의 반복이 진행되기만 하면 됨.\n",
        "for _ in range(5):\n",
        "    print(\"내 영원이 돼줘, 내 이름 불러줘\")"
      ],
      "metadata": {
        "colab": {
          "base_uri": "https://localhost:8080/"
        },
        "id": "tt70G1NH08ph",
        "outputId": "7cd164d2-3aee-409e-8371-23fcbe2e4170"
      },
      "execution_count": null,
      "outputs": [
        {
          "output_type": "stream",
          "name": "stdout",
          "text": [
            "내 영원이 돼줘, 내 이름 불러줘\n",
            "내 영원이 돼줘, 내 이름 불러줘\n",
            "내 영원이 돼줘, 내 이름 불러줘\n",
            "내 영원이 돼줘, 내 이름 불러줘\n",
            "내 영원이 돼줘, 내 이름 불러줘\n"
          ]
        }
      ]
    },
    {
      "cell_type": "markdown",
      "source": [
        "**format을 이용해서, 문자열을 반복해서 출력해볼까요?**"
      ],
      "metadata": {
        "id": "HVr6mVWR0hjq"
      }
    },
    {
      "cell_type": "code",
      "source": [
        "a = [1, 2, 3, 4, 5]\n",
        "\n",
        "#문자열 안에 또 '나 \" 를 넣고 싶을 때 앞에 \\를 붙여주면 제대로 표시됨.\n",
        "\n",
        "for i in a:\n",
        "    output_str = 'Forever {} It\\'s love, it\\'s love'.format(i)\n",
        "    print(output_str)"
      ],
      "metadata": {
        "colab": {
          "base_uri": "https://localhost:8080/"
        },
        "id": "VH2bonjcynEa",
        "outputId": "d74f28c4-341c-463f-9488-512d7f7d85be"
      },
      "execution_count": null,
      "outputs": [
        {
          "output_type": "stream",
          "name": "stdout",
          "text": [
            "Forever 1 It's love, it's love\n",
            "Forever 2 It's love, it's love\n",
            "Forever 3 It's love, it's love\n",
            "Forever 4 It's love, it's love\n",
            "Forever 5 It's love, it's love\n"
          ]
        }
      ]
    },
    {
      "cell_type": "markdown",
      "source": [
        "**반복문을 이용해서 합계를 구해볼 수 있을까요?**\n",
        "\n",
        "- score의 합계를 구하고 출력해봅시다."
      ],
      "metadata": {
        "id": "MzrGFNHs4lmU"
      }
    },
    {
      "cell_type": "code",
      "source": [
        "scores = [100, 90, 85, 90, 100, 88]\n",
        "\n",
        "summation = 0\n",
        "for value in scores:\n",
        "  summation += value\n",
        "print(summation)\n"
      ],
      "metadata": {
        "id": "cPkmVJcA3XDW",
        "colab": {
          "base_uri": "https://localhost:8080/"
        },
        "outputId": "29298324-195c-47cf-a74b-9543d29be3ac"
      },
      "execution_count": null,
      "outputs": [
        {
          "output_type": "stream",
          "name": "stdout",
          "text": [
            "553\n"
          ]
        }
      ]
    },
    {
      "cell_type": "markdown",
      "source": [
        "**평균은 어떻게 구할 수 있을까요?**"
      ],
      "metadata": {
        "id": "9KM55RFp44VI"
      }
    },
    {
      "cell_type": "code",
      "source": [
        "scores = [100, 90, 85, 90, 100, 88]\n",
        "\n",
        "summation = 0\n",
        "for value in scores:\n",
        "  summation += value\n",
        "  \n",
        "#원소 개수만큼 총합을 나눠주기\n",
        "print(summation/len(scores))"
      ],
      "metadata": {
        "id": "RfC0zVoZ470H",
        "colab": {
          "base_uri": "https://localhost:8080/"
        },
        "outputId": "48d33a79-2ce8-476d-82c6-4fadad792952"
      },
      "execution_count": null,
      "outputs": [
        {
          "output_type": "stream",
          "name": "stdout",
          "text": [
            "92.16666666666667\n"
          ]
        }
      ]
    },
    {
      "cell_type": "markdown",
      "source": [
        "**while의 경우 무한루프를 방지하기 위해 break와 함께 사용합시다.**"
      ],
      "metadata": {
        "id": "Ni-H0OI55vgD"
      }
    },
    {
      "cell_type": "code",
      "source": [
        "i = 0\n",
        "#while True: 이렇게 써 놓으면 무한정 while문 반복. 왜냐면 항상 while 다음의 조건 체크시 무조건 True니까 break가 없다면 영원히 조건문을 돌게 될 것임. \n",
        "while True:\n",
        "    i += 1\n",
        "    print(i)\n",
        "    if i > 5:\n",
        "        break"
      ],
      "metadata": {
        "colab": {
          "base_uri": "https://localhost:8080/"
        },
        "id": "dBdtF5zL48aW",
        "outputId": "87200e55-4106-4581-e814-22fc4e6613cc"
      },
      "execution_count": null,
      "outputs": [
        {
          "output_type": "stream",
          "name": "stdout",
          "text": [
            "1\n",
            "2\n",
            "3\n",
            "4\n",
            "5\n",
            "6\n"
          ]
        }
      ]
    },
    {
      "cell_type": "markdown",
      "source": [
        "**continue를 사용하면 반복문의 처음으로 돌아갑니다.**"
      ],
      "metadata": {
        "id": "hy3CfB_g6sRi"
      }
    },
    {
      "cell_type": "code",
      "source": [
        "i = 0\n",
        "# continue가 반복문 중간에 나온 경우 해당 반복은 거기서 끝나고 다시 while / for 다음의 조건의 True / False 체크하는 부분으로 돌아가게 된다.\n",
        "while True:\n",
        "    i += 1\n",
        "    if i % 2 == 0:\n",
        "        continue\n",
        "    print(i)\n",
        "    if i > 20:\n",
        "        break"
      ],
      "metadata": {
        "colab": {
          "base_uri": "https://localhost:8080/"
        },
        "id": "egIqVz606nfc",
        "outputId": "29e3d2d8-bfe3-4602-99f5-6e0051871524"
      },
      "execution_count": null,
      "outputs": [
        {
          "output_type": "stream",
          "name": "stdout",
          "text": [
            "1\n",
            "3\n",
            "5\n",
            "7\n",
            "9\n",
            "11\n",
            "13\n",
            "15\n",
            "17\n",
            "19\n",
            "21\n"
          ]
        }
      ]
    },
    {
      "cell_type": "markdown",
      "source": [
        "**이중 for문으로 쓰면 더욱 어렵습니다.**"
      ],
      "metadata": {
        "id": "70PX_nn2HuWI"
      }
    },
    {
      "cell_type": "code",
      "source": [
        "for i in range(10):\n",
        "    for j in range(10):\n",
        "        print('{} x {} = {}'.format(i, j, i * j))\n",
        "# for문 안의 for문은 경우의 수 구현을 복잡하게 할 수 있다."
      ],
      "metadata": {
        "colab": {
          "base_uri": "https://localhost:8080/"
        },
        "id": "a4sRwKKpHw6O",
        "outputId": "de3b939f-9128-4eac-fa95-22695d60582f"
      },
      "execution_count": null,
      "outputs": [
        {
          "output_type": "stream",
          "name": "stdout",
          "text": [
            "0 x 0 = 0\n",
            "0 x 1 = 0\n",
            "0 x 2 = 0\n",
            "0 x 3 = 0\n",
            "0 x 4 = 0\n",
            "0 x 5 = 0\n",
            "0 x 6 = 0\n",
            "0 x 7 = 0\n",
            "0 x 8 = 0\n",
            "0 x 9 = 0\n",
            "1 x 0 = 0\n",
            "1 x 1 = 1\n",
            "1 x 2 = 2\n",
            "1 x 3 = 3\n",
            "1 x 4 = 4\n",
            "1 x 5 = 5\n",
            "1 x 6 = 6\n",
            "1 x 7 = 7\n",
            "1 x 8 = 8\n",
            "1 x 9 = 9\n",
            "2 x 0 = 0\n",
            "2 x 1 = 2\n",
            "2 x 2 = 4\n",
            "2 x 3 = 6\n",
            "2 x 4 = 8\n",
            "2 x 5 = 10\n",
            "2 x 6 = 12\n",
            "2 x 7 = 14\n",
            "2 x 8 = 16\n",
            "2 x 9 = 18\n",
            "3 x 0 = 0\n",
            "3 x 1 = 3\n",
            "3 x 2 = 6\n",
            "3 x 3 = 9\n",
            "3 x 4 = 12\n",
            "3 x 5 = 15\n",
            "3 x 6 = 18\n",
            "3 x 7 = 21\n",
            "3 x 8 = 24\n",
            "3 x 9 = 27\n",
            "4 x 0 = 0\n",
            "4 x 1 = 4\n",
            "4 x 2 = 8\n",
            "4 x 3 = 12\n",
            "4 x 4 = 16\n",
            "4 x 5 = 20\n",
            "4 x 6 = 24\n",
            "4 x 7 = 28\n",
            "4 x 8 = 32\n",
            "4 x 9 = 36\n",
            "5 x 0 = 0\n",
            "5 x 1 = 5\n",
            "5 x 2 = 10\n",
            "5 x 3 = 15\n",
            "5 x 4 = 20\n",
            "5 x 5 = 25\n",
            "5 x 6 = 30\n",
            "5 x 7 = 35\n",
            "5 x 8 = 40\n",
            "5 x 9 = 45\n",
            "6 x 0 = 0\n",
            "6 x 1 = 6\n",
            "6 x 2 = 12\n",
            "6 x 3 = 18\n",
            "6 x 4 = 24\n",
            "6 x 5 = 30\n",
            "6 x 6 = 36\n",
            "6 x 7 = 42\n",
            "6 x 8 = 48\n",
            "6 x 9 = 54\n",
            "7 x 0 = 0\n",
            "7 x 1 = 7\n",
            "7 x 2 = 14\n",
            "7 x 3 = 21\n",
            "7 x 4 = 28\n",
            "7 x 5 = 35\n",
            "7 x 6 = 42\n",
            "7 x 7 = 49\n",
            "7 x 8 = 56\n",
            "7 x 9 = 63\n",
            "8 x 0 = 0\n",
            "8 x 1 = 8\n",
            "8 x 2 = 16\n",
            "8 x 3 = 24\n",
            "8 x 4 = 32\n",
            "8 x 5 = 40\n",
            "8 x 6 = 48\n",
            "8 x 7 = 56\n",
            "8 x 8 = 64\n",
            "8 x 9 = 72\n",
            "9 x 0 = 0\n",
            "9 x 1 = 9\n",
            "9 x 2 = 18\n",
            "9 x 3 = 27\n",
            "9 x 4 = 36\n",
            "9 x 5 = 45\n",
            "9 x 6 = 54\n",
            "9 x 7 = 63\n",
            "9 x 8 = 72\n",
            "9 x 9 = 81\n"
          ]
        }
      ]
    },
    {
      "cell_type": "markdown",
      "source": [
        "## **일일 과제**"
      ],
      "metadata": {
        "id": "c72mxW-N-dDw"
      }
    },
    {
      "cell_type": "markdown",
      "source": [
        "**1. 다음은 학생들의 국어, 수학, 영어 성적입니다. 각각 평균을 구해보세요.**"
      ],
      "metadata": {
        "id": "6zfqVc2L_39Q"
      }
    },
    {
      "cell_type": "code",
      "source": [
        "Korean = [92, 36, 45, 52, 0]\n",
        "math = [97, 38, 49, 98, 58]\n",
        "english = [19, 52, 61, 13, 91]\n",
        "\n",
        "summation_kor = 0\n",
        "summation_math = 0\n",
        "summation_english = 0\n",
        "\n",
        "for value_kor in Korean:\n",
        "  summation_kor += value_kor\n",
        "print(\"학생들의 국어 성적 평균은 \"+ str((summation_kor/len(Korean)))+\"입니다.\")\n",
        "\n",
        "for value_math in math:\n",
        "  summation_math += value_math\n",
        "print(\"학생들의 수학 성적 평균은 \"+ str((summation_math/len(math)))+\"입니다.\")\n",
        "\n",
        "for value_english in english:\n",
        "  summation_english += value_english\n",
        "print(\"학생들의 영어 성적 평균은 \"+ str((summation_english/len(english)))+\"입니다.\")"
      ],
      "metadata": {
        "id": "YJPlxc0q-BH7",
        "colab": {
          "base_uri": "https://localhost:8080/"
        },
        "outputId": "1735217e-7d43-4765-90d6-c7e9bd3d5099"
      },
      "execution_count": null,
      "outputs": [
        {
          "output_type": "stream",
          "name": "stdout",
          "text": [
            "학생들의 국어 성적 평균은 45.0입니다.\n",
            "학생들의 수학 성적 평균은 68.0입니다.\n",
            "학생들의 영어 성적 평균은 47.2입니다.\n"
          ]
        }
      ]
    },
    {
      "cell_type": "markdown",
      "source": [
        "**2. 다음은 학생들의 국어, 수학, 영어 성적입니다. 평균을 구하고, 평균 점수가 70점 미만인 사람의 이름을 출력하세요.**"
      ],
      "metadata": {
        "id": "5-qzQYOgAzXP"
      }
    },
    {
      "cell_type": "code",
      "source": [
        "name = [\"Kim\", \"Lee\", \"Park\", \"Choi\", \"Jung\", \"Kang\", \"Cho\", \"Yoon\", \"Jang\", \"Lim\", \"Han\"]\n",
        "math = [97, 38, 49, 98, 58, 17, 13, 25, 39, 9, 96]\n",
        "english = [19, 52, 61, 13, 91, 34, 87, 7, 69, 97, 33]\n",
        "Korean = [92, 36, 45, 52, 0, 91, 9, 93, 45, 75, 37]\n",
        "\n",
        "stu_list = list()\n",
        "\n",
        "for i in range(len(name)):\n",
        "  stu_name=name[i]\n",
        "  aver_num=str((math[i]+english[i]+Korean[i])/3)\n",
        "  print(f\"{stu_name}의 평균 점수는 {aver_num}입니다.\")\n",
        "  # stu_list에 aver_num에 담긴 평균 점수 값을 추가.\n",
        "  stu_list.append(float(aver_num))\n",
        "  # 평균 점수가 70점 미만인지 아닌지 판별 위해 float() 함수를 통해 aver_num을 바꿔줌. 그래야 소수점 아래까지 나오니까 값이 더 정확하겠지?\n",
        "\n",
        "for i in range(len(name)):\n",
        "  \n",
        "  if stu_list[i] < 70:\n",
        "    print(name[i]+\"은 평균 점수가 70점 미만 입니다.\")"
      ],
      "metadata": {
        "id": "oY_DbwOQAxUj",
        "colab": {
          "base_uri": "https://localhost:8080/"
        },
        "outputId": "407eda45-8144-4f4d-e5da-691d93ae09bf"
      },
      "execution_count": null,
      "outputs": [
        {
          "output_type": "stream",
          "name": "stdout",
          "text": [
            "Kim의 평균 점수는 69.33333333333333입니다.\n",
            "Lee의 평균 점수는 42.0입니다.\n",
            "Park의 평균 점수는 51.666666666666664입니다.\n",
            "Choi의 평균 점수는 54.333333333333336입니다.\n",
            "Jung의 평균 점수는 49.666666666666664입니다.\n",
            "Kang의 평균 점수는 47.333333333333336입니다.\n",
            "Cho의 평균 점수는 36.333333333333336입니다.\n",
            "Yoon의 평균 점수는 41.666666666666664입니다.\n",
            "Jang의 평균 점수는 51.0입니다.\n",
            "Lim의 평균 점수는 60.333333333333336입니다.\n",
            "Han의 평균 점수는 55.333333333333336입니다.\n",
            "Kim은 평균 점수가 70점 미만 입니다.\n",
            "Lee은 평균 점수가 70점 미만 입니다.\n",
            "Park은 평균 점수가 70점 미만 입니다.\n",
            "Choi은 평균 점수가 70점 미만 입니다.\n",
            "Jung은 평균 점수가 70점 미만 입니다.\n",
            "Kang은 평균 점수가 70점 미만 입니다.\n",
            "Cho은 평균 점수가 70점 미만 입니다.\n",
            "Yoon은 평균 점수가 70점 미만 입니다.\n",
            "Jang은 평균 점수가 70점 미만 입니다.\n",
            "Lim은 평균 점수가 70점 미만 입니다.\n",
            "Han은 평균 점수가 70점 미만 입니다.\n"
          ]
        }
      ]
    },
    {
      "cell_type": "markdown",
      "source": [
        "**3. 1부터 1000까지의 짝수들의 합을 계산하는 코드를 작성하시오.**"
      ],
      "metadata": {
        "id": "aaEf83q4BEQM"
      }
    },
    {
      "cell_type": "code",
      "source": [
        "summation=0\n",
        "for item in range(1001):\n",
        "  if (item % 2) == 0:\n",
        "    summation += item\n",
        "print(summation)"
      ],
      "metadata": {
        "id": "fe6YgXUGA_V8",
        "colab": {
          "base_uri": "https://localhost:8080/"
        },
        "outputId": "f37afa1a-489f-4e14-805b-ad4fd0fe041b"
      },
      "execution_count": null,
      "outputs": [
        {
          "output_type": "stream",
          "name": "stdout",
          "text": [
            "250500\n"
          ]
        }
      ]
    },
    {
      "cell_type": "markdown",
      "source": [
        "**4. a = [22, 1, 3, 4, 7, 98, 21, 55, 87, 99, 19, 20, 45] 에서 최대값과 최소값을 찾으시오.**"
      ],
      "metadata": {
        "id": "UyIEbF_QGoMQ"
      }
    },
    {
      "cell_type": "code",
      "source": [
        "a = [22, 1, 3, 4, 7, 98, 21, 55, 87, 99, 19, 20, 45]\n",
        "\n",
        "# max와 처음 비교하게 되는 a[0] 값이 무조건 max에 들어가게 하기 위해 max로 리스트 a의 그 어느 값보다도 작은 0을 설정\n",
        "# min와 처음 비교하게 되는 a[0] 값이 무조건 min에 들어가게 하기 위해 min으로 리스트 a의 그 어느 값보다도 큰 100을 설정.\n",
        "max = 0\n",
        "min = 100\n",
        "\n",
        "for compare_max in a:\n",
        "  if compare_max > max:\n",
        "    max=compare_max\n",
        "print(f\"최대값은 {max}입니다.\")\n",
        "\n",
        "\n",
        "for compare_min in a:\n",
        "  if compare_min < min:\n",
        "    min=compare_min\n",
        "print(f\"최소값은 {min}입니다.\")\n"
      ],
      "metadata": {
        "id": "0L8l63aDHUhK",
        "colab": {
          "base_uri": "https://localhost:8080/"
        },
        "outputId": "571a20d2-2efc-4533-f056-0f1bb87117db"
      },
      "execution_count": null,
      "outputs": [
        {
          "output_type": "stream",
          "name": "stdout",
          "text": [
            "최대값은 99입니다.\n",
            "최소값은 1입니다.\n"
          ]
        }
      ]
    },
    {
      "cell_type": "markdown",
      "source": [
        "**5. 구구단을 1단부터 9단까지 출력하시오.**"
      ],
      "metadata": {
        "id": "oXh79AwqBJVG"
      }
    },
    {
      "cell_type": "code",
      "source": [
        "for i in range(1,10):\n",
        "    for j in range(1,10):\n",
        "        print('{} x {} = {}'.format(i, j, i * j))"
      ],
      "metadata": {
        "id": "SbN30-eSIXHd",
        "colab": {
          "base_uri": "https://localhost:8080/"
        },
        "outputId": "a6ce9b21-391e-476a-f01b-fac472e56c64"
      },
      "execution_count": null,
      "outputs": [
        {
          "output_type": "stream",
          "name": "stdout",
          "text": [
            "1 x 1 = 1\n",
            "1 x 2 = 2\n",
            "1 x 3 = 3\n",
            "1 x 4 = 4\n",
            "1 x 5 = 5\n",
            "1 x 6 = 6\n",
            "1 x 7 = 7\n",
            "1 x 8 = 8\n",
            "1 x 9 = 9\n",
            "2 x 1 = 2\n",
            "2 x 2 = 4\n",
            "2 x 3 = 6\n",
            "2 x 4 = 8\n",
            "2 x 5 = 10\n",
            "2 x 6 = 12\n",
            "2 x 7 = 14\n",
            "2 x 8 = 16\n",
            "2 x 9 = 18\n",
            "3 x 1 = 3\n",
            "3 x 2 = 6\n",
            "3 x 3 = 9\n",
            "3 x 4 = 12\n",
            "3 x 5 = 15\n",
            "3 x 6 = 18\n",
            "3 x 7 = 21\n",
            "3 x 8 = 24\n",
            "3 x 9 = 27\n",
            "4 x 1 = 4\n",
            "4 x 2 = 8\n",
            "4 x 3 = 12\n",
            "4 x 4 = 16\n",
            "4 x 5 = 20\n",
            "4 x 6 = 24\n",
            "4 x 7 = 28\n",
            "4 x 8 = 32\n",
            "4 x 9 = 36\n",
            "5 x 1 = 5\n",
            "5 x 2 = 10\n",
            "5 x 3 = 15\n",
            "5 x 4 = 20\n",
            "5 x 5 = 25\n",
            "5 x 6 = 30\n",
            "5 x 7 = 35\n",
            "5 x 8 = 40\n",
            "5 x 9 = 45\n",
            "6 x 1 = 6\n",
            "6 x 2 = 12\n",
            "6 x 3 = 18\n",
            "6 x 4 = 24\n",
            "6 x 5 = 30\n",
            "6 x 6 = 36\n",
            "6 x 7 = 42\n",
            "6 x 8 = 48\n",
            "6 x 9 = 54\n",
            "7 x 1 = 7\n",
            "7 x 2 = 14\n",
            "7 x 3 = 21\n",
            "7 x 4 = 28\n",
            "7 x 5 = 35\n",
            "7 x 6 = 42\n",
            "7 x 7 = 49\n",
            "7 x 8 = 56\n",
            "7 x 9 = 63\n",
            "8 x 1 = 8\n",
            "8 x 2 = 16\n",
            "8 x 3 = 24\n",
            "8 x 4 = 32\n",
            "8 x 5 = 40\n",
            "8 x 6 = 48\n",
            "8 x 7 = 56\n",
            "8 x 8 = 64\n",
            "8 x 9 = 72\n",
            "9 x 1 = 9\n",
            "9 x 2 = 18\n",
            "9 x 3 = 27\n",
            "9 x 4 = 36\n",
            "9 x 5 = 45\n",
            "9 x 6 = 54\n",
            "9 x 7 = 63\n",
            "9 x 8 = 72\n",
            "9 x 9 = 81\n"
          ]
        }
      ]
    },
    {
      "cell_type": "code",
      "source": [],
      "metadata": {
        "id": "MBvB6PkfOED_"
      },
      "execution_count": null,
      "outputs": []
    }
  ]
}